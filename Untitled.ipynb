{
 "cells": [
  {
   "cell_type": "code",
   "execution_count": 1,
   "id": "5635309f-ec50-48ee-be09-1f38739b098f",
   "metadata": {},
   "outputs": [
    {
     "data": {
      "text/plain": [
       "6"
      ]
     },
     "execution_count": 1,
     "metadata": {},
     "output_type": "execute_result"
    }
   ],
   "source": [
    "round(5.654)"
   ]
  },
  {
   "cell_type": "code",
   "execution_count": 3,
   "id": "d40b7b0e-12ce-4178-ad3f-656c6df408c0",
   "metadata": {},
   "outputs": [
    {
     "data": {
      "text/plain": [
       "8"
      ]
     },
     "execution_count": 3,
     "metadata": {},
     "output_type": "execute_result"
    }
   ],
   "source": [
    "x = 10\n",
    "y = 9\n",
    "x&y"
   ]
  },
  {
   "cell_type": "code",
   "execution_count": 7,
   "id": "4245b44e-a8f9-42da-8272-82162b77e32f",
   "metadata": {},
   "outputs": [
    {
     "data": {
      "text/plain": [
       "[1, 2, 'KHMT']"
      ]
     },
     "execution_count": 7,
     "metadata": {},
     "output_type": "execute_result"
    }
   ],
   "source": [
    "l = [1, 0, 2, 0, 'KHMT', '', []]\n",
    "list(filter(bool, l))"
   ]
  },
  {
   "cell_type": "code",
   "execution_count": 9,
   "id": "5ffb2fc0-c1b6-47ed-82f3-094d5274c54d",
   "metadata": {},
   "outputs": [
    {
     "data": {
      "text/plain": [
       "0"
      ]
     },
     "execution_count": 9,
     "metadata": {},
     "output_type": "execute_result"
    }
   ],
   "source": [
    "12 % 11 //12"
   ]
  },
  {
   "cell_type": "code",
   "execution_count": 11,
   "id": "dbcdeacf-0e23-4df8-bba9-2f6473ac41a0",
   "metadata": {},
   "outputs": [],
   "source": [
    "a = 12\n",
    "b = 90\n",
    "h = (a+b)/2"
   ]
  },
  {
   "cell_type": "code",
   "execution_count": 13,
   "id": "ffd25464-2271-4a8a-b31e-aa783d6f4369",
   "metadata": {},
   "outputs": [
    {
     "data": {
      "text/plain": [
       "51.0"
      ]
     },
     "execution_count": 13,
     "metadata": {},
     "output_type": "execute_result"
    }
   ],
   "source": [
    "h"
   ]
  },
  {
   "cell_type": "code",
   "execution_count": 15,
   "id": "8eb9785a-89af-4ba9-b000-8fd8a36d0093",
   "metadata": {},
   "outputs": [
    {
     "name": "stdout",
     "output_type": "stream",
     "text": [
      "Hello ML and DL\n"
     ]
    }
   ],
   "source": [
    "print(\"Hello {0[0]} and {0[1]}\".format((\"ML\", \"DL\")))"
   ]
  },
  {
   "cell_type": "code",
   "execution_count": 17,
   "id": "5eafbf5e-c818-4ee8-b6f6-f4d2c00df1b1",
   "metadata": {},
   "outputs": [
    {
     "data": {
      "text/plain": [
       "4"
      ]
     },
     "execution_count": 17,
     "metadata": {},
     "output_type": "execute_result"
    }
   ],
   "source": [
    "len([\"python\", \"hello\"*2, [2,3], 7])"
   ]
  },
  {
   "cell_type": "code",
   "execution_count": 21,
   "id": "3a7f7f10-b460-4050-a609-1ac90a9e8bed",
   "metadata": {},
   "outputs": [
    {
     "name": "stdout",
     "output_type": "stream",
     "text": [
      "0\n",
      "0\n",
      "1\n",
      "0\n",
      "2\n"
     ]
    }
   ],
   "source": [
    "i = 0\n",
    "while i < 5:\n",
    "    print(i)\n",
    "    i += 1\n",
    "    if i == 3:\n",
    "        break\n",
    "    else:\n",
    "        print(0)"
   ]
  },
  {
   "cell_type": "code",
   "execution_count": 23,
   "id": "443a512c-e941-448b-b239-c056d642e5f3",
   "metadata": {},
   "outputs": [
    {
     "name": "stdout",
     "output_type": "stream",
     "text": [
      "True\n"
     ]
    }
   ],
   "source": [
    "print(\"11\".isnumeric())"
   ]
  },
  {
   "cell_type": "code",
   "execution_count": 29,
   "id": "7da41206-3153-4b33-b11c-ac3d68f13cad",
   "metadata": {},
   "outputs": [],
   "source": [
    "i = 1\n",
    "while False:\n",
    "    if i % 2 == 0:\n",
    "        break\n",
    "    print(i)\n",
    "    i += 2"
   ]
  },
  {
   "cell_type": "code",
   "execution_count": 31,
   "id": "c183014f-413c-4c41-b42b-a41652e4136b",
   "metadata": {},
   "outputs": [
    {
     "name": "stdout",
     "output_type": "stream",
     "text": [
      "15\n"
     ]
    }
   ],
   "source": [
    "class tester:\n",
    "    def __init__(self, id):\n",
    "        self.id = str(id)\n",
    "\n",
    "id = \"243\"\n",
    "temp = tester(15)\n",
    "print(temp.id)"
   ]
  },
  {
   "cell_type": "code",
   "execution_count": 33,
   "id": "6097a587-9148-49ec-ad7f-fe1c94c7db94",
   "metadata": {},
   "outputs": [
    {
     "data": {
      "text/plain": [
       "2"
      ]
     },
     "execution_count": 33,
     "metadata": {},
     "output_type": "execute_result"
    }
   ],
   "source": [
    "2%3"
   ]
  },
  {
   "cell_type": "code",
   "execution_count": 35,
   "id": "e1aa4969-de6a-4fb2-bde1-b2a8cfa56e29",
   "metadata": {},
   "outputs": [
    {
     "ename": "TypeError",
     "evalue": "%d format: a real number is required, not list",
     "output_type": "error",
     "traceback": [
      "\u001b[1;31m---------------------------------------------------------------------------\u001b[0m",
      "\u001b[1;31mTypeError\u001b[0m                                 Traceback (most recent call last)",
      "Cell \u001b[1;32mIn[35], line 1\u001b[0m\n\u001b[1;32m----> 1\u001b[0m \u001b[38;5;28mprint\u001b[39m(\u001b[38;5;124m\"\u001b[39m\u001b[38;5;132;01m%-06d\u001b[39;00m\u001b[38;5;124m\"\u001b[39m\u001b[38;5;241m%\u001b[39mx)\n",
      "\u001b[1;31mTypeError\u001b[0m: %d format: a real number is required, not list"
     ]
    }
   ],
   "source": [
    "print(\"%-06d\"%x)"
   ]
  },
  {
   "cell_type": "code",
   "execution_count": 37,
   "id": "10b44dd3-34ea-4eea-a1db-ecd499a8cc9d",
   "metadata": {},
   "outputs": [
    {
     "ename": "TypeError",
     "evalue": "'str' object is not callable",
     "output_type": "error",
     "traceback": [
      "\u001b[1;31m---------------------------------------------------------------------------\u001b[0m",
      "\u001b[1;31mTypeError\u001b[0m                                 Traceback (most recent call last)",
      "Cell \u001b[1;32mIn[37], line 7\u001b[0m\n\u001b[0;32m      4\u001b[0m     \u001b[38;5;28;01mreturn\u001b[39;00m \u001b[38;5;28mid\u001b[39m(x)\n\u001b[0;32m      6\u001b[0m q \u001b[38;5;241m=\u001b[39m [\u001b[38;5;124m'\u001b[39m\u001b[38;5;124mabc\u001b[39m\u001b[38;5;124m'\u001b[39m, \u001b[38;5;124m'\u001b[39m\u001b[38;5;124mdef\u001b[39m\u001b[38;5;124m'\u001b[39m]\n\u001b[1;32m----> 7\u001b[0m \u001b[38;5;28mprint\u001b[39m(\u001b[38;5;28mid\u001b[39m(q) \u001b[38;5;241m==\u001b[39m foo(q))\n",
      "\u001b[1;31mTypeError\u001b[0m: 'str' object is not callable"
     ]
    }
   ],
   "source": [
    "def foo(x):\n",
    "    x[0] = ['def']\n",
    "    x[1] = ['abc']\n",
    "    return id(x)\n",
    "\n",
    "q = ['abc', 'def']\n",
    "print(id(q) == foo(q))"
   ]
  },
  {
   "cell_type": "code",
   "execution_count": 39,
   "id": "45bb8477-4168-485a-80c5-c3774e04a24e",
   "metadata": {},
   "outputs": [
    {
     "ename": "TypeError",
     "evalue": "'str' object is not callable",
     "output_type": "error",
     "traceback": [
      "\u001b[1;31m---------------------------------------------------------------------------\u001b[0m",
      "\u001b[1;31mTypeError\u001b[0m                                 Traceback (most recent call last)",
      "Cell \u001b[1;32mIn[39], line 7\u001b[0m\n\u001b[0;32m      4\u001b[0m     \u001b[38;5;28;01mreturn\u001b[39;00m \u001b[38;5;28mid\u001b[39m(x)\n\u001b[0;32m      6\u001b[0m q \u001b[38;5;241m=\u001b[39m [\u001b[38;5;124m'\u001b[39m\u001b[38;5;124mabc\u001b[39m\u001b[38;5;124m'\u001b[39m, \u001b[38;5;124m'\u001b[39m\u001b[38;5;124mdef\u001b[39m\u001b[38;5;124m'\u001b[39m]\n\u001b[1;32m----> 7\u001b[0m \u001b[38;5;28mprint\u001b[39m(\u001b[38;5;28mid\u001b[39m(q) \u001b[38;5;241m==\u001b[39m foo(q))\n",
      "\u001b[1;31mTypeError\u001b[0m: 'str' object is not callable"
     ]
    }
   ],
   "source": [
    "def foo(x):\n",
    "    x[0] = ['def']\n",
    "    x[1] = ['abc']\n",
    "    return id(x)\n",
    "\n",
    "q = ['abc', 'def']\n",
    "print(id(q) == foo(q))"
   ]
  },
  {
   "cell_type": "code",
   "execution_count": 49,
   "id": "4725379d-a5e1-40c0-9057-fa214613998a",
   "metadata": {},
   "outputs": [],
   "source": [
    "x = -122"
   ]
  },
  {
   "cell_type": "code",
   "execution_count": 51,
   "id": "cb925cd3-43c1-4f11-8c43-dc1f52791569",
   "metadata": {},
   "outputs": [
    {
     "name": "stdout",
     "output_type": "stream",
     "text": [
      "--00122\n"
     ]
    }
   ],
   "source": [
    "print('-%06d'%x)"
   ]
  },
  {
   "cell_type": "code",
   "execution_count": 53,
   "id": "51d5829e-c2d4-4c4c-9da8-0eb85a0b08a7",
   "metadata": {},
   "outputs": [
    {
     "name": "stdout",
     "output_type": "stream",
     "text": [
      "True\n"
     ]
    }
   ],
   "source": [
    "print('for'.isidentifier())"
   ]
  },
  {
   "cell_type": "code",
   "execution_count": 55,
   "id": "bbfc40b8-4719-44cb-a656-e6021fadbe79",
   "metadata": {},
   "outputs": [],
   "source": [
    "x = 1"
   ]
  },
  {
   "cell_type": "code",
   "execution_count": 57,
   "id": "b7914149-6d10-46cf-a5da-7f67dc2f9f7e",
   "metadata": {},
   "outputs": [
    {
     "data": {
      "text/plain": [
       "4"
      ]
     },
     "execution_count": 57,
     "metadata": {},
     "output_type": "execute_result"
    }
   ],
   "source": [
    "x << 2"
   ]
  },
  {
   "cell_type": "code",
   "execution_count": 59,
   "id": "42747115-5800-4d5e-9e35-88216d6fd30b",
   "metadata": {},
   "outputs": [
    {
     "name": "stdout",
     "output_type": "stream",
     "text": [
      "[1, 3, 5, 7, 8]\n"
     ]
    }
   ],
   "source": [
    "list1 = [1, 2, 3, 4]\n",
    "list2 = [2, 4, 5, 6]\n",
    "list3 = [2, 6, 7, 8]\n",
    "\n",
    "result = []\n",
    "\n",
    "# Thêm các phần tử từ list1 không có trong list2 và list3\n",
    "result.extend([i for i in list1 if i not in list2 and i not in list3 and i not in result])\n",
    "\n",
    "# Thêm các phần tử từ list2 không có trong list1 và list3\n",
    "result.extend([i for i in list2 if i not in list1 and i not in list3 and i not in result])\n",
    "\n",
    "# Thêm các phần tử từ list3 không có trong list1 và list2\n",
    "result.extend([i for i in list3 if i not in list1 and i not in list2 and i not in result])\n",
    "\n",
    "print(result)  # Kết quả: [3, 5, 7, 8]"
   ]
  },
  {
   "cell_type": "code",
   "execution_count": 61,
   "id": "60d02b01-c1fe-49d8-9df7-395f14da4785",
   "metadata": {},
   "outputs": [
    {
     "name": "stdout",
     "output_type": "stream",
     "text": [
      "1\n",
      "2\n"
     ]
    }
   ],
   "source": [
    "i = 1\n",
    "while True:\n",
    "    if i % 3 == 0:\n",
    "        break\n",
    "    print(i)\n",
    "    i = i + 1"
   ]
  },
  {
   "cell_type": "code",
   "execution_count": 63,
   "id": "069c7bad-6997-46f6-9771-f0fa941bce5c",
   "metadata": {},
   "outputs": [],
   "source": [
    "def f(x):\n",
    "    def f1(*args, **kwargs):\n",
    "        print(\"Python\")\n",
    "        return x(*args, **kwargs)\n",
    "    return f1"
   ]
  },
  {
   "cell_type": "code",
   "execution_count": 65,
   "id": "0d949abb-daf6-4e80-9106-a8672c1f7eed",
   "metadata": {},
   "outputs": [
    {
     "ename": "NameError",
     "evalue": "name '____' is not defined",
     "output_type": "error",
     "traceback": [
      "\u001b[1;31m---------------------------------------------------------------------------\u001b[0m",
      "\u001b[1;31mNameError\u001b[0m                                 Traceback (most recent call last)",
      "Cell \u001b[1;32mIn[65], line 1\u001b[0m\n\u001b[1;32m----> 1\u001b[0m f(____)\n",
      "\u001b[1;31mNameError\u001b[0m: name '____' is not defined"
     ]
    }
   ],
   "source": [
    "f(____)"
   ]
  },
  {
   "cell_type": "code",
   "execution_count": 71,
   "id": "0636c320-ddd4-4353-99f4-27ee58ee34a6",
   "metadata": {},
   "outputs": [
    {
     "name": "stdout",
     "output_type": "stream",
     "text": [
      "4\n"
     ]
    }
   ],
   "source": [
    "def x(a):\n",
    "    a = a + [5]\n",
    "b = [1, 2, 3, 4]\n",
    "x(b)\n",
    "print(len(b))"
   ]
  },
  {
   "cell_type": "code",
   "execution_count": 73,
   "id": "16b9a098-73d3-437f-b4f3-5d038650a2c9",
   "metadata": {},
   "outputs": [
    {
     "data": {
      "text/plain": [
       "8"
      ]
     },
     "execution_count": 73,
     "metadata": {},
     "output_type": "execute_result"
    }
   ],
   "source": [
    "A = [[1, 2, 3],\n",
    "     [4, 5, 6],\n",
    "     [7, 8, 9]]\n",
    "A[2][1]"
   ]
  },
  {
   "cell_type": "code",
   "execution_count": 81,
   "id": "ea0d76bd-53b2-4e65-9e84-ae57f3c0638b",
   "metadata": {},
   "outputs": [
    {
     "name": "stdout",
     "output_type": "stream",
     "text": [
      "*abcde *\n"
     ]
    }
   ],
   "source": [
    "print('*', \"abcde\".center(6),'*', sep=\"\")"
   ]
  },
  {
   "cell_type": "code",
   "execution_count": 83,
   "id": "86d6bfee-bdaa-4162-8a61-4e01ebb31ba2",
   "metadata": {},
   "outputs": [
    {
     "name": "stdout",
     "output_type": "stream",
     "text": [
      "0\n",
      "1\n",
      "2\n",
      "3\n"
     ]
    }
   ],
   "source": [
    "x = 'abcd'\n",
    "for i in range(len(x)):\n",
    "    print(i)"
   ]
  },
  {
   "cell_type": "code",
   "execution_count": 87,
   "id": "48286fbd-60f6-4ee1-8845-2c82c054f2fa",
   "metadata": {},
   "outputs": [
    {
     "name": "stdout",
     "output_type": "stream",
     "text": [
      "[1, 3, 5, 7, 8]\n"
     ]
    }
   ],
   "source": [
    "list1 = [1, 2, 3, 4]\n",
    "list2 = [2, 4, 5, 6]\n",
    "list3 = [2, 6, 7, 8]\n",
    "\n",
    "result = []\n",
    "\n",
    "# Thêm các phần tử từ list1 không có trong list2 và list3\n",
    "result.extend(i for i in list1 if i not in (list2 + list3) and i not in result)\n",
    "\n",
    "# Thêm các phần tử từ list2 không có trong list1 và list3\n",
    "result.extend(i for i in list2 if i not in (list1 + list3) and i not in result)\n",
    "\n",
    "# Thêm các phần tử từ list3 không có trong list1 và list2\n",
    "result.extend(i for i in list3 if i not in (list1 + list2) and i not in result)\n",
    "\n",
    "print(result)  # Kết quả: [3, 5, 7, 8]"
   ]
  },
  {
   "cell_type": "code",
   "execution_count": 91,
   "id": "2bbb0665-d5ab-4db2-8c7e-8425d3965553",
   "metadata": {},
   "outputs": [
    {
     "ename": "TypeError",
     "evalue": "'str' object is not callable",
     "output_type": "error",
     "traceback": [
      "\u001b[1;31m---------------------------------------------------------------------------\u001b[0m",
      "\u001b[1;31mTypeError\u001b[0m                                 Traceback (most recent call last)",
      "Cell \u001b[1;32mIn[91], line 1\u001b[0m\n\u001b[1;32m----> 1\u001b[0m \u001b[38;5;28mprint\u001b[39m(\u001b[38;5;28mtype\u001b[39m(\u001b[38;5;28mid\u001b[39m()))\n",
      "\u001b[1;31mTypeError\u001b[0m: 'str' object is not callable"
     ]
    }
   ],
   "source": [
    "print(type(id()))"
   ]
  },
  {
   "cell_type": "code",
   "execution_count": null,
   "id": "095f7a05-6c29-49c3-8adf-380dc8213441",
   "metadata": {},
   "outputs": [],
   "source": []
  }
 ],
 "metadata": {
  "kernelspec": {
   "display_name": "Python [conda env:base] *",
   "language": "python",
   "name": "conda-base-py"
  },
  "language_info": {
   "codemirror_mode": {
    "name": "ipython",
    "version": 3
   },
   "file_extension": ".py",
   "mimetype": "text/x-python",
   "name": "python",
   "nbconvert_exporter": "python",
   "pygments_lexer": "ipython3",
   "version": "3.12.8"
  }
 },
 "nbformat": 4,
 "nbformat_minor": 5
}
