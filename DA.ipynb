{
 "cells": [
  {
   "cell_type": "code",
   "execution_count": 1,
   "id": "f727e416-c956-4e24-b7b5-3ddb8c54c5aa",
   "metadata": {},
   "outputs": [],
   "source": [
    "import numpy as np"
   ]
  },
  {
   "cell_type": "code",
   "execution_count": 2,
   "id": "b42eb5f7-f0e8-4a1b-8424-8c52516c3b91",
   "metadata": {},
   "outputs": [],
   "source": [
    "s = 5"
   ]
  },
  {
   "cell_type": "code",
   "execution_count": 5,
   "id": "2b375701-0f59-4adb-8441-2102fd122b7a",
   "metadata": {},
   "outputs": [],
   "source": [
    "v = np.array([5,2,3])\n",
    "m = np.array([[5,12,6],[-3,8,14]])"
   ]
  },
  {
   "cell_type": "code",
   "execution_count": 8,
   "id": "99317538-5c54-471a-b839-81c097773ad0",
   "metadata": {},
   "outputs": [
    {
     "data": {
      "text/plain": [
       "(3,)"
      ]
     },
     "execution_count": 8,
     "metadata": {},
     "output_type": "execute_result"
    }
   ],
   "source": [
    "v.shape"
   ]
  },
  {
   "cell_type": "code",
   "execution_count": 9,
   "id": "ad5d031e-3636-4e4d-8009-013917b6ef01",
   "metadata": {},
   "outputs": [
    {
     "data": {
      "text/plain": [
       "array([[5],\n",
       "       [2],\n",
       "       [3]])"
      ]
     },
     "execution_count": 9,
     "metadata": {},
     "output_type": "execute_result"
    }
   ],
   "source": [
    "v.reshape(3,1)"
   ]
  },
  {
   "cell_type": "code",
   "execution_count": 10,
   "id": "a0089737-69e5-428b-a131-4591465ad538",
   "metadata": {},
   "outputs": [
    {
     "data": {
      "text/plain": [
       "(2, 3)"
      ]
     },
     "execution_count": 10,
     "metadata": {},
     "output_type": "execute_result"
    }
   ],
   "source": [
    "m.shape"
   ]
  },
  {
   "cell_type": "code",
   "execution_count": 11,
   "id": "858b9f1d-211a-493f-8f63-3dbf8ca227fa",
   "metadata": {},
   "outputs": [],
   "source": [
    "hung = np.array([[9,3,4],[5,6,7]])"
   ]
  },
  {
   "cell_type": "code",
   "execution_count": 12,
   "id": "302d9325-dc0b-476e-b66a-a1b90b982df9",
   "metadata": {},
   "outputs": [
    {
     "data": {
      "text/plain": [
       "(2, 3)"
      ]
     },
     "execution_count": 12,
     "metadata": {},
     "output_type": "execute_result"
    }
   ],
   "source": [
    "hung.shape"
   ]
  },
  {
   "cell_type": "code",
   "execution_count": 13,
   "id": "d8388546-add9-4a94-a028-58d80c14d4c5",
   "metadata": {},
   "outputs": [
    {
     "data": {
      "text/plain": [
       "array([[-4,  9,  2],\n",
       "       [-8,  2,  7]])"
      ]
     },
     "execution_count": 13,
     "metadata": {},
     "output_type": "execute_result"
    }
   ],
   "source": [
    "m - hung"
   ]
  },
  {
   "cell_type": "code",
   "execution_count": 14,
   "id": "402a1d41-3ea3-4bd7-bacd-3eb653554548",
   "metadata": {},
   "outputs": [
    {
     "data": {
      "text/plain": [
       "array([[10,  4,  5],\n",
       "       [ 6,  7,  8]])"
      ]
     },
     "execution_count": 14,
     "metadata": {},
     "output_type": "execute_result"
    }
   ],
   "source": [
    "hung + 1"
   ]
  },
  {
   "cell_type": "code",
   "execution_count": 16,
   "id": "6b86d553-5417-4e3e-ba29-496dd208a2d4",
   "metadata": {},
   "outputs": [
    {
     "data": {
      "text/plain": [
       "array([[9, 3, 4],\n",
       "       [5, 6, 7]])"
      ]
     },
     "execution_count": 16,
     "metadata": {},
     "output_type": "execute_result"
    }
   ],
   "source": [
    "hung"
   ]
  },
  {
   "cell_type": "code",
   "execution_count": 17,
   "id": "936650cd-99f3-464b-8653-e7cd570f0233",
   "metadata": {},
   "outputs": [
    {
     "data": {
      "text/plain": [
       "array([[9, 5],\n",
       "       [3, 6],\n",
       "       [4, 7]])"
      ]
     },
     "execution_count": 17,
     "metadata": {},
     "output_type": "execute_result"
    }
   ],
   "source": [
    "hung.T"
   ]
  },
  {
   "cell_type": "code",
   "execution_count": 18,
   "id": "de5ae2c3-5512-4990-9ab9-453cd62e7240",
   "metadata": {},
   "outputs": [],
   "source": [
    "x = np.array([5,6,7])\n",
    "y = np.array([4,5,6])"
   ]
  },
  {
   "cell_type": "code",
   "execution_count": 19,
   "id": "ac85ac41-9e1d-4d9c-b967-7e4db35c7cb3",
   "metadata": {},
   "outputs": [
    {
     "data": {
      "text/plain": [
       "92"
      ]
     },
     "execution_count": 19,
     "metadata": {},
     "output_type": "execute_result"
    }
   ],
   "source": [
    "np.dot(x,y)"
   ]
  },
  {
   "cell_type": "code",
   "execution_count": 20,
   "id": "6b126f96-1007-41d4-b673-a2e3822f5e90",
   "metadata": {},
   "outputs": [
    {
     "data": {
      "text/plain": [
       "30"
      ]
     },
     "execution_count": 20,
     "metadata": {},
     "output_type": "execute_result"
    }
   ],
   "source": [
    "np.dot(5,6)"
   ]
  },
  {
   "cell_type": "code",
   "execution_count": 21,
   "id": "ddf233a3-16f5-4e59-8ed8-a6b294b50f23",
   "metadata": {},
   "outputs": [
    {
     "data": {
      "text/plain": [
       "array([25, 30, 35])"
      ]
     },
     "execution_count": 21,
     "metadata": {},
     "output_type": "execute_result"
    }
   ],
   "source": [
    "np.dot(x,5)"
   ]
  },
  {
   "cell_type": "code",
   "execution_count": 22,
   "id": "3b3ce548-e3b7-44a8-847a-e8348b4eb7e5",
   "metadata": {},
   "outputs": [
    {
     "data": {
      "text/plain": [
       "array([25, 30, 35])"
      ]
     },
     "execution_count": 22,
     "metadata": {},
     "output_type": "execute_result"
    }
   ],
   "source": [
    "x * 5"
   ]
  },
  {
   "cell_type": "code",
   "execution_count": 2,
   "id": "5125c6fc-aa66-4c88-b2f7-0d4ed2d8eb38",
   "metadata": {},
   "outputs": [],
   "source": [
    "import pandas as pd"
   ]
  },
  {
   "cell_type": "code",
   "execution_count": 3,
   "id": "b0d094ca-fe6e-4445-84bd-24dc73b21028",
   "metadata": {},
   "outputs": [],
   "source": [
    "hung = pd.Series([10,20,30,40,50])"
   ]
  },
  {
   "cell_type": "code",
   "execution_count": 4,
   "id": "9ed55ec1-3b1e-4060-814f-1179006e0fff",
   "metadata": {},
   "outputs": [
    {
     "data": {
      "text/plain": [
       "0    10\n",
       "1    20\n",
       "2    30\n",
       "3    40\n",
       "4    50\n",
       "dtype: int64"
      ]
     },
     "execution_count": 4,
     "metadata": {},
     "output_type": "execute_result"
    }
   ],
   "source": [
    "hung"
   ]
  },
  {
   "cell_type": "code",
   "execution_count": 5,
   "id": "1fddf91d-097e-44c7-b3d9-dbb7c3788ced",
   "metadata": {},
   "outputs": [
    {
     "data": {
      "text/plain": [
       "dtype('int64')"
      ]
     },
     "execution_count": 5,
     "metadata": {},
     "output_type": "execute_result"
    }
   ],
   "source": [
    "hung.dtype"
   ]
  },
  {
   "cell_type": "code",
   "execution_count": 6,
   "id": "5aea2898-be1c-4697-bd84-fdda9ab0c725",
   "metadata": {},
   "outputs": [
    {
     "data": {
      "text/plain": [
       "5"
      ]
     },
     "execution_count": 6,
     "metadata": {},
     "output_type": "execute_result"
    }
   ],
   "source": [
    "hung.size"
   ]
  },
  {
   "cell_type": "code",
   "execution_count": 7,
   "id": "f80a280e-2faa-4dca-b4fe-bb6288db355f",
   "metadata": {},
   "outputs": [],
   "source": [
    "hhung = pd.Series(['A','B','C','D'])"
   ]
  },
  {
   "cell_type": "code",
   "execution_count": 8,
   "id": "911fc8dd-2d9d-4989-a5ff-58c10936e61b",
   "metadata": {},
   "outputs": [
    {
     "data": {
      "text/plain": [
       "dtype('O')"
      ]
     },
     "execution_count": 8,
     "metadata": {},
     "output_type": "execute_result"
    }
   ],
   "source": [
    "hhung.dtype"
   ]
  },
  {
   "cell_type": "code",
   "execution_count": 9,
   "id": "49aa65b3-0da8-4f7d-a71e-007f168ad73e",
   "metadata": {},
   "outputs": [
    {
     "data": {
      "text/plain": [
       "0    A\n",
       "1    B\n",
       "2    C\n",
       "3    D\n",
       "dtype: object"
      ]
     },
     "execution_count": 9,
     "metadata": {},
     "output_type": "execute_result"
    }
   ],
   "source": [
    "hhung"
   ]
  },
  {
   "cell_type": "code",
   "execution_count": 12,
   "id": "080a0bfb-a143-475a-bb2b-ffbc45dd3a29",
   "metadata": {},
   "outputs": [],
   "source": [
    "hhung.name = 'hung'"
   ]
  },
  {
   "cell_type": "code",
   "execution_count": 13,
   "id": "99a50f5c-61a5-463e-8b37-cc570ed0d3c8",
   "metadata": {},
   "outputs": [
    {
     "data": {
      "text/plain": [
       "4"
      ]
     },
     "execution_count": 13,
     "metadata": {},
     "output_type": "execute_result"
    }
   ],
   "source": [
    "hhung.size"
   ]
  },
  {
   "cell_type": "code",
   "execution_count": 16,
   "id": "a6ffd487-43a6-4c33-aad0-933b19bbc3a8",
   "metadata": {},
   "outputs": [],
   "source": [
    "hhung\n",
    "import numpy as np"
   ]
  },
  {
   "cell_type": "code",
   "execution_count": 22,
   "id": "eb10cf6d-4fde-4235-bea6-8764cbba728e",
   "metadata": {},
   "outputs": [],
   "source": [
    "dung = [1,3,2,4]\n",
    "dung1 = np.array(dung)\n",
    "hung1 = pd.Series(dung)\n",
    "hung2 = np.array(dung)\n",
    "hung1.name = 'hung'"
   ]
  },
  {
   "cell_type": "code",
   "execution_count": 21,
   "id": "f1fa764f-d10c-47a0-add9-72e0f2cd2eff",
   "metadata": {},
   "outputs": [
    {
     "data": {
      "text/plain": [
       "(0    1\n",
       " 1    3\n",
       " 2    2\n",
       " 3    4\n",
       " Name: hung, dtype: int64,\n",
       " array([1, 3, 2, 4]))"
      ]
     },
     "execution_count": 21,
     "metadata": {},
     "output_type": "execute_result"
    }
   ],
   "source": [
    "hung1,hung2"
   ]
  },
  {
   "cell_type": "code",
   "execution_count": 23,
   "id": "a659da7f-d760-4789-8d73-2a93dda25b0f",
   "metadata": {},
   "outputs": [],
   "source": [
    "hung2 = np.array(dung1)"
   ]
  },
  {
   "cell_type": "code",
   "execution_count": 24,
   "id": "12f515f7-0575-4977-ba4f-027100926712",
   "metadata": {},
   "outputs": [
    {
     "data": {
      "text/plain": [
       "array([1, 3, 2, 4])"
      ]
     },
     "execution_count": 24,
     "metadata": {},
     "output_type": "execute_result"
    }
   ],
   "source": [
    "hung2"
   ]
  },
  {
   "cell_type": "code",
   "execution_count": null,
   "id": "c0d6fa00-6637-475f-a02e-e591711bd2a0",
   "metadata": {},
   "outputs": [],
   "source": []
  }
 ],
 "metadata": {
  "kernelspec": {
   "display_name": "Python 3 (ipykernel)",
   "language": "python",
   "name": "python3"
  },
  "language_info": {
   "codemirror_mode": {
    "name": "ipython",
    "version": 3
   },
   "file_extension": ".py",
   "mimetype": "text/x-python",
   "name": "python",
   "nbconvert_exporter": "python",
   "pygments_lexer": "ipython3",
   "version": "3.12.7"
  }
 },
 "nbformat": 4,
 "nbformat_minor": 5
}
