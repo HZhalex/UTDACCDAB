{
 "cells": [
  {
   "cell_type": "markdown",
   "id": "f84bb5dd-ef02-400f-b68d-1e088fed940c",
   "metadata": {},
   "source": [
    "Bài 4:"
   ]
  },
  {
   "cell_type": "code",
   "execution_count": 93,
   "id": "d24279e0-1a9b-4ddb-8a92-95c8f2283284",
   "metadata": {},
   "outputs": [],
   "source": [
    "def cau_a(danh_sach):\n",
    "    sinh_vien_ho_nguyen = [sv for sv in danh_sach if sv.split(\" \")[0].lower() == \"nguyen\"]\n",
    "    if sinh_vien_ho_nguyen:\n",
    "        print(\"sinh vien họ nguyễn:\")\n",
    "        for i in sinh_vien_ho_nguyen:\n",
    "            print(f\"{i}\")\n",
    "    else :\n",
    "        print(\"không có sinh viên nào họ nguyễn\")"
   ]
  },
  {
   "cell_type": "code",
   "execution_count": 94,
   "id": "afb36206-52fe-4dc0-9cf6-68309bf0fd97",
   "metadata": {},
   "outputs": [],
   "source": [
    "def cau_b(danh_sach):\n",
    "    ho = {}\n",
    "    for i in danh_sach:\n",
    "        if i.split(\" \")[0].lower() not in ho:\n",
    "            ho[str(i.split(\" \")[0].lower())] = \"1\"\n",
    "    print(f\"Tổng số họ trong danh sách là: {len(ho)}\")"
   ]
  },
  {
   "cell_type": "code",
   "execution_count": 95,
   "id": "8d97e3b9-820b-4a0f-8cbe-2030718cf345",
   "metadata": {},
   "outputs": [],
   "source": [
    "def cau_c(danh_sach):\n",
    "    sinh_vien_ho_a_t = [sv for sv in danh_sach if sv.split(\" \")[-1][0].lower() in ['a', 't']]\n",
    "    if sinh_vien_ho_a_t:\n",
    "        print(\"sinh vien có tên bắt đầu bằng chữ 'A' hoặc 'T':\")\n",
    "        for i in sinh_vien_ho_a_t:\n",
    "            print(f\"{i}\")\n",
    "    else :\n",
    "        print(\"không có sinh viên nào có tên bắt đầu bằng chữ 'A' hoặc 'T':\")"
   ]
  },
  {
   "cell_type": "code",
   "execution_count": 96,
   "id": "42582c00-1409-4195-96a8-7bcf836c7fe7",
   "metadata": {},
   "outputs": [],
   "source": [
    "def ctl_1(n,danh_sach):\n",
    "    for i in range(n):\n",
    "        ho_ten = input(f\"Nhập họ và tên của sinh viên {i+1}: \")\n",
    "        danh_sach.append(ho_ten)\n",
    "    print(\" \")\n",
    "    cau_a(danh_sach)\n",
    "    print(\" \")\n",
    "    cau_b(danh_sach)\n",
    "    print(\" \")\n",
    "    cau_c(danh_sach)"
   ]
  },
  {
   "cell_type": "code",
   "execution_count": 100,
   "id": "ab59f528-86d3-4149-bbb1-bed59d96ff35",
   "metadata": {
    "scrolled": true
   },
   "outputs": [
    {
     "name": "stdin",
     "output_type": "stream",
     "text": [
      "Nhập số lượng sinh viên:  3\n",
      "Nhập họ và tên của sinh viên 1:  Nguyen van A\n",
      "Nhập họ và tên của sinh viên 2:  nguyen hoang hung\n",
      "Nhập họ và tên của sinh viên 3:  hoang van hung\n"
     ]
    },
    {
     "name": "stdout",
     "output_type": "stream",
     "text": [
      " \n",
      "sinh vien họ nguyễn:\n",
      "Nguyen van A\n",
      "nguyen hoang hung\n",
      " \n",
      "Tổng số họ trong danh sách là: 2\n",
      " \n",
      "sinh vien có tên bắt đầu bằng chữ 'A' hoặc 'T':\n",
      "Nguyen van A\n"
     ]
    }
   ],
   "source": [
    "n = int(input(\"Nhập số lượng sinh viên: \"))\n",
    "danh_sach = []\n",
    "ctl_1(n,danh_sach)"
   ]
  },
  {
   "cell_type": "markdown",
   "id": "a5e02f0d-11e7-4775-9920-286d879ab30c",
   "metadata": {},
   "source": [
    "\n",
    "Bài 2:"
   ]
  },
  {
   "cell_type": "code",
   "execution_count": 91,
   "id": "c9d84749-d724-4108-8f4a-37d3d0af6db0",
   "metadata": {},
   "outputs": [],
   "source": [
    "def ctl_2(A, B):\n",
    "    C = []\n",
    "    i, j = 0, 0 \n",
    "    while i < len(A) and j < len(B):\n",
    "        if A[i] <= B[j]:\n",
    "            C.append(A[i])\n",
    "            i += 1\n",
    "        else:\n",
    "            C.append(B[j])\n",
    "            j += 1\n",
    "\n",
    "    while i < len(A):\n",
    "        C.append(A[i])\n",
    "        i += 1\n",
    "\n",
    "    while j < len(B):\n",
    "        C.append(B[j])\n",
    "        j += 1\n",
    "\n",
    "    return C"
   ]
  },
  {
   "cell_type": "code",
   "execution_count": 92,
   "id": "75abbeb4-b0dc-4f2d-83cc-8065da82cfd8",
   "metadata": {},
   "outputs": [
    {
     "name": "stdout",
     "output_type": "stream",
     "text": [
      "Ta có dãy C: [1, 2, 3, 4, 5, 6, 7, 8, 10]\n"
     ]
    }
   ],
   "source": [
    "A = [1, 3, 5, 7]\n",
    "B = [2, 4, 6, 8, 10]\n",
    "C = ctl_2(A, B)\n",
    "print(\"Ta có dãy C:\", C)"
   ]
  },
  {
   "cell_type": "code",
   "execution_count": 1,
   "id": "0e9c99d6-805c-42fa-9806-03a7a6712b21",
   "metadata": {},
   "outputs": [],
   "source": [
    "import pandas as pd"
   ]
  },
  {
   "cell_type": "code",
   "execution_count": 3,
   "id": "d0d13bd2-99d0-4035-85ad-2951ba786277",
   "metadata": {},
   "outputs": [],
   "source": [
    "def getDataframeSize(players: pd.DataFrame):\n",
    "    print(players.shape)\n",
    "    return [players.shape[0],players.shape[1]]"
   ]
  },
  {
   "cell_type": "code",
   "execution_count": 4,
   "id": "598d0e64-8b00-48df-91e7-0ade8ab39e05",
   "metadata": {},
   "outputs": [
    {
     "name": "stdout",
     "output_type": "stream",
     "text": [
      "   player_id      name  age     position                team\n",
      "0        846     Mason   21      Forward          RealMadrid\n",
      "1        749     Riley   30       Winger           Barcelona\n",
      "2        155       Bob   28      Striker    ManchesterUnited\n",
      "3        583  Isabella   32   Goalkeeper           Liverpool\n",
      "4        388   Zachary   24   Midfielder        BayernMunich\n",
      "5        883       Ava   23     Defender             Chelsea\n",
      "6        355    Violet   18      Striker            Juventus\n",
      "7        247    Thomas   27      Striker  ParisSaint-Germain\n",
      "8        761      Jack   33   Midfielder      ManchesterCity\n",
      "9        642   Charlie   36  Center-back             Arsenal\n"
     ]
    }
   ],
   "source": [
    "import pandas as pd\n",
    "\n",
    "data = {\n",
    "    \"player_id\": [846, 749, 155, 583, 388, 883, 355, 247, 761, 642],\n",
    "    \"name\": [\"Mason\", \"Riley\", \"Bob\", \"Isabella\", \"Zachary\", \"Ava\", \"Violet\", \"Thomas\", \"Jack\", \"Charlie\"],\n",
    "    \"age\": [21, 30, 28, 32, 24, 23, 18, 27, 33, 36],\n",
    "    \"position\": [\"Forward\", \"Winger\", \"Striker\", \"Goalkeeper\", \"Midfielder\", \"Defender\", \"Striker\", \"Striker\", \"Midfielder\", \"Center-back\"],\n",
    "    \"team\": [\"RealMadrid\", \"Barcelona\", \"ManchesterUnited\", \"Liverpool\", \"BayernMunich\", \"Chelsea\", \"Juventus\", \"ParisSaint-Germain\", \"ManchesterCity\", \"Arsenal\"]\n",
    "}\n",
    "\n",
    "# Tạo DataFrame\n",
    "players_df = pd.DataFrame(data)\n",
    "\n",
    "# Hiển thị DataFrame\n",
    "print(players_df)\n"
   ]
  },
  {
   "cell_type": "code",
   "execution_count": 17,
   "id": "d85f393e-aab8-4cc6-8e17-4ef4151beeba",
   "metadata": {},
   "outputs": [
    {
     "data": {
      "text/html": [
       "<div>\n",
       "<style scoped>\n",
       "    .dataframe tbody tr th:only-of-type {\n",
       "        vertical-align: middle;\n",
       "    }\n",
       "\n",
       "    .dataframe tbody tr th {\n",
       "        vertical-align: top;\n",
       "    }\n",
       "\n",
       "    .dataframe thead th {\n",
       "        text-align: right;\n",
       "    }\n",
       "</style>\n",
       "<table border=\"1\" class=\"dataframe\">\n",
       "  <thead>\n",
       "    <tr style=\"text-align: right;\">\n",
       "      <th></th>\n",
       "      <th>name</th>\n",
       "      <th>age</th>\n",
       "    </tr>\n",
       "  </thead>\n",
       "  <tbody>\n",
       "    <tr>\n",
       "      <th>0</th>\n",
       "      <td>Mason</td>\n",
       "      <td>21</td>\n",
       "    </tr>\n",
       "  </tbody>\n",
       "</table>\n",
       "</div>"
      ],
      "text/plain": [
       "    name  age\n",
       "0  Mason   21"
      ]
     },
     "execution_count": 17,
     "metadata": {},
     "output_type": "execute_result"
    }
   ],
   "source": [
    "players_df.loc[players_df['player_id'] == 846,['name','age']]"
   ]
  },
  {
   "cell_type": "code",
   "execution_count": 18,
   "id": "915284c7-ef14-4d2d-8078-d07c38423d9c",
   "metadata": {},
   "outputs": [
    {
     "name": "stdout",
     "output_type": "stream",
     "text": [
      "   player_id      name  age     position                team\n",
      "0        846     Mason   21      Forward          RealMadrid\n",
      "1        749     Riley   30       Winger           Barcelona\n",
      "2        155       Bob   28      Striker    ManchesterUnited\n",
      "3        583  Isabella   32   Goalkeeper           Liverpool\n",
      "4        388   Zachary   24   Midfielder        BayernMunich\n",
      "5        883       Ava   23     Defender             Chelsea\n",
      "6        355    Violet   18      Striker            Juventus\n",
      "7        247    Thomas   27      Striker  ParisSaint-Germain\n",
      "8        761      Jack   33   Midfielder      ManchesterCity\n",
      "9        642   Charlie   36  Center-back             Arsenal\n"
     ]
    }
   ],
   "source": [
    "print(players_df)"
   ]
  },
  {
   "cell_type": "code",
   "execution_count": 23,
   "id": "73e64ae6-bdc5-4096-a10a-6204aa79d9e9",
   "metadata": {},
   "outputs": [
    {
     "name": "stdout",
     "output_type": "stream",
     "text": [
      "30\n"
     ]
    }
   ],
   "source": [
    "print(players_df['age'][1])"
   ]
  },
  {
   "cell_type": "code",
   "execution_count": 29,
   "id": "c429b2a4-ebc2-451f-bd05-6edba92e1e4d",
   "metadata": {},
   "outputs": [],
   "source": [
    "hung = []\n",
    "for i in range(len(players_df)):\n",
    "    hung.append(players_df['age'][i] * 2)\n",
    "hungkhon = { \"ngu\" : hung}"
   ]
  },
  {
   "cell_type": "code",
   "execution_count": 31,
   "id": "9c5bc0a7-d016-4936-a06b-7bb5bbb461fb",
   "metadata": {},
   "outputs": [],
   "source": [
    "hungga = pd.DataFrame(hungkhon)"
   ]
  },
  {
   "cell_type": "code",
   "execution_count": 33,
   "id": "b0c7d366-5954-4b47-b717-bdbe41ee23fc",
   "metadata": {},
   "outputs": [
    {
     "data": {
      "text/html": [
       "<div>\n",
       "<style scoped>\n",
       "    .dataframe tbody tr th:only-of-type {\n",
       "        vertical-align: middle;\n",
       "    }\n",
       "\n",
       "    .dataframe tbody tr th {\n",
       "        vertical-align: top;\n",
       "    }\n",
       "\n",
       "    .dataframe thead th {\n",
       "        text-align: right;\n",
       "    }\n",
       "</style>\n",
       "<table border=\"1\" class=\"dataframe\">\n",
       "  <thead>\n",
       "    <tr style=\"text-align: right;\">\n",
       "      <th></th>\n",
       "      <th>ngu</th>\n",
       "    </tr>\n",
       "  </thead>\n",
       "  <tbody>\n",
       "    <tr>\n",
       "      <th>0</th>\n",
       "      <td>42</td>\n",
       "    </tr>\n",
       "    <tr>\n",
       "      <th>1</th>\n",
       "      <td>60</td>\n",
       "    </tr>\n",
       "    <tr>\n",
       "      <th>2</th>\n",
       "      <td>56</td>\n",
       "    </tr>\n",
       "    <tr>\n",
       "      <th>3</th>\n",
       "      <td>64</td>\n",
       "    </tr>\n",
       "    <tr>\n",
       "      <th>4</th>\n",
       "      <td>48</td>\n",
       "    </tr>\n",
       "    <tr>\n",
       "      <th>5</th>\n",
       "      <td>46</td>\n",
       "    </tr>\n",
       "    <tr>\n",
       "      <th>6</th>\n",
       "      <td>36</td>\n",
       "    </tr>\n",
       "    <tr>\n",
       "      <th>7</th>\n",
       "      <td>54</td>\n",
       "    </tr>\n",
       "    <tr>\n",
       "      <th>8</th>\n",
       "      <td>66</td>\n",
       "    </tr>\n",
       "    <tr>\n",
       "      <th>9</th>\n",
       "      <td>72</td>\n",
       "    </tr>\n",
       "  </tbody>\n",
       "</table>\n",
       "</div>"
      ],
      "text/plain": [
       "   ngu\n",
       "0   42\n",
       "1   60\n",
       "2   56\n",
       "3   64\n",
       "4   48\n",
       "5   46\n",
       "6   36\n",
       "7   54\n",
       "8   66\n",
       "9   72"
      ]
     },
     "execution_count": 33,
     "metadata": {},
     "output_type": "execute_result"
    }
   ],
   "source": [
    "hungga"
   ]
  },
  {
   "cell_type": "code",
   "execution_count": 1,
   "id": "569d93fd-3988-429e-871f-0cbd592547ee",
   "metadata": {},
   "outputs": [],
   "source": [
    "import pandas as pd\n",
    "data = [[1, 'Daniel', 'YFEV COUGH'], [2, 'Alice', ''], [3, 'Bob', 'DIAB100 MYOP'], [4, 'George', 'ACNE DIAB100'], [5, 'Alain', 'DIAB201']]\n",
    "patients = pd.DataFrame(data, columns=['patient_id', 'patient_name', 'conditions']).astype({'patient_id':'int64', 'patient_name':'object', 'conditions':'object'})"
   ]
  },
  {
   "cell_type": "code",
   "execution_count": 2,
   "id": "7ef506a1-1167-41f0-b3d6-10d47c7cb335",
   "metadata": {},
   "outputs": [
    {
     "data": {
      "text/html": [
       "<div>\n",
       "<style scoped>\n",
       "    .dataframe tbody tr th:only-of-type {\n",
       "        vertical-align: middle;\n",
       "    }\n",
       "\n",
       "    .dataframe tbody tr th {\n",
       "        vertical-align: top;\n",
       "    }\n",
       "\n",
       "    .dataframe thead th {\n",
       "        text-align: right;\n",
       "    }\n",
       "</style>\n",
       "<table border=\"1\" class=\"dataframe\">\n",
       "  <thead>\n",
       "    <tr style=\"text-align: right;\">\n",
       "      <th></th>\n",
       "      <th>patient_id</th>\n",
       "      <th>patient_name</th>\n",
       "      <th>conditions</th>\n",
       "    </tr>\n",
       "  </thead>\n",
       "  <tbody>\n",
       "    <tr>\n",
       "      <th>0</th>\n",
       "      <td>1</td>\n",
       "      <td>Daniel</td>\n",
       "      <td>YFEV COUGH</td>\n",
       "    </tr>\n",
       "    <tr>\n",
       "      <th>1</th>\n",
       "      <td>2</td>\n",
       "      <td>Alice</td>\n",
       "      <td></td>\n",
       "    </tr>\n",
       "    <tr>\n",
       "      <th>2</th>\n",
       "      <td>3</td>\n",
       "      <td>Bob</td>\n",
       "      <td>DIAB100 MYOP</td>\n",
       "    </tr>\n",
       "    <tr>\n",
       "      <th>3</th>\n",
       "      <td>4</td>\n",
       "      <td>George</td>\n",
       "      <td>ACNE DIAB100</td>\n",
       "    </tr>\n",
       "    <tr>\n",
       "      <th>4</th>\n",
       "      <td>5</td>\n",
       "      <td>Alain</td>\n",
       "      <td>DIAB201</td>\n",
       "    </tr>\n",
       "  </tbody>\n",
       "</table>\n",
       "</div>"
      ],
      "text/plain": [
       "   patient_id patient_name    conditions\n",
       "0           1       Daniel    YFEV COUGH\n",
       "1           2        Alice              \n",
       "2           3          Bob  DIAB100 MYOP\n",
       "3           4       George  ACNE DIAB100\n",
       "4           5        Alain       DIAB201"
      ]
     },
     "execution_count": 2,
     "metadata": {},
     "output_type": "execute_result"
    }
   ],
   "source": [
    "patients"
   ]
  },
  {
   "cell_type": "code",
   "execution_count": 4,
   "id": "2dee83b8-8704-49b5-8593-356b1202204b",
   "metadata": {},
   "outputs": [
    {
     "data": {
      "text/html": [
       "<div>\n",
       "<style scoped>\n",
       "    .dataframe tbody tr th:only-of-type {\n",
       "        vertical-align: middle;\n",
       "    }\n",
       "\n",
       "    .dataframe tbody tr th {\n",
       "        vertical-align: top;\n",
       "    }\n",
       "\n",
       "    .dataframe thead th {\n",
       "        text-align: right;\n",
       "    }\n",
       "</style>\n",
       "<table border=\"1\" class=\"dataframe\">\n",
       "  <thead>\n",
       "    <tr style=\"text-align: right;\">\n",
       "      <th></th>\n",
       "      <th>patient_id</th>\n",
       "      <th>patient_name</th>\n",
       "      <th>conditions</th>\n",
       "    </tr>\n",
       "  </thead>\n",
       "  <tbody>\n",
       "    <tr>\n",
       "      <th>2</th>\n",
       "      <td>3</td>\n",
       "      <td>Bob</td>\n",
       "      <td>DIAB100 MYOP</td>\n",
       "    </tr>\n",
       "    <tr>\n",
       "      <th>3</th>\n",
       "      <td>4</td>\n",
       "      <td>George</td>\n",
       "      <td>ACNE DIAB100</td>\n",
       "    </tr>\n",
       "  </tbody>\n",
       "</table>\n",
       "</div>"
      ],
      "text/plain": [
       "   patient_id patient_name    conditions\n",
       "2           3          Bob  DIAB100 MYOP\n",
       "3           4       George  ACNE DIAB100"
      ]
     },
     "execution_count": 4,
     "metadata": {},
     "output_type": "execute_result"
    }
   ],
   "source": [
    "patients[patients['conditions'].str.contains(r'\\bDIAB1')]"
   ]
  },
  {
   "cell_type": "code",
   "execution_count": 19,
   "id": "c13ce684-6377-40e0-8813-506636485f64",
   "metadata": {},
   "outputs": [],
   "source": [
    "import pandas as pd\n",
    "data = [[1, 3.5], [2, 3.65], [3, 4.0], [4, 3.85], [5, 4.0], [6, 3.65],[7,None]]\n",
    "scores = pd.DataFrame(data, columns=['id', 'score']).astype({'id':'Int64', 'score':'Float64'})"
   ]
  },
  {
   "cell_type": "code",
   "execution_count": 20,
   "id": "edda663d-f582-4722-b9cf-42e733d64ae9",
   "metadata": {},
   "outputs": [],
   "source": [
    "scores['rank'] = scores['score'].rank(method='dense', ascending=False)"
   ]
  },
  {
   "cell_type": "code",
   "execution_count": 23,
   "id": "1a1d53e8-d52d-4c8d-9eee-6a03a0caf07e",
   "metadata": {},
   "outputs": [
    {
     "data": {
      "text/html": [
       "<div>\n",
       "<style scoped>\n",
       "    .dataframe tbody tr th:only-of-type {\n",
       "        vertical-align: middle;\n",
       "    }\n",
       "\n",
       "    .dataframe tbody tr th {\n",
       "        vertical-align: top;\n",
       "    }\n",
       "\n",
       "    .dataframe thead th {\n",
       "        text-align: right;\n",
       "    }\n",
       "</style>\n",
       "<table border=\"1\" class=\"dataframe\">\n",
       "  <thead>\n",
       "    <tr style=\"text-align: right;\">\n",
       "      <th></th>\n",
       "      <th>score</th>\n",
       "      <th>rank</th>\n",
       "    </tr>\n",
       "  </thead>\n",
       "  <tbody>\n",
       "    <tr>\n",
       "      <th>2</th>\n",
       "      <td>4.0</td>\n",
       "      <td>1.0</td>\n",
       "    </tr>\n",
       "    <tr>\n",
       "      <th>4</th>\n",
       "      <td>4.0</td>\n",
       "      <td>1.0</td>\n",
       "    </tr>\n",
       "    <tr>\n",
       "      <th>3</th>\n",
       "      <td>3.85</td>\n",
       "      <td>2.0</td>\n",
       "    </tr>\n",
       "    <tr>\n",
       "      <th>1</th>\n",
       "      <td>3.65</td>\n",
       "      <td>3.0</td>\n",
       "    </tr>\n",
       "    <tr>\n",
       "      <th>5</th>\n",
       "      <td>3.65</td>\n",
       "      <td>3.0</td>\n",
       "    </tr>\n",
       "    <tr>\n",
       "      <th>0</th>\n",
       "      <td>3.5</td>\n",
       "      <td>4.0</td>\n",
       "    </tr>\n",
       "  </tbody>\n",
       "</table>\n",
       "</div>"
      ],
      "text/plain": [
       "   score  rank\n",
       "2    4.0   1.0\n",
       "4    4.0   1.0\n",
       "3   3.85   2.0\n",
       "1   3.65   3.0\n",
       "5   3.65   3.0\n",
       "0    3.5   4.0"
      ]
     },
     "execution_count": 23,
     "metadata": {},
     "output_type": "execute_result"
    }
   ],
   "source": [
    "scores[['score','rank']].sort_values(by = 'rank').dropna()"
   ]
  },
  {
   "cell_type": "code",
   "execution_count": 24,
   "id": "9256b4e9-bab3-4233-9084-985b624b300c",
   "metadata": {},
   "outputs": [],
   "source": [
    "import pandas as pd\n",
    "import numpy as np\n",
    "data = [[3, 108939], [2, 12747], [8, 87709], [6, 91796]]\n",
    "accounts = pd.DataFrame(data, columns=['account_id', 'income']).astype({'account_id':'Int64', 'income':'Int64'})"
   ]
  },
  {
   "cell_type": "code",
   "execution_count": 27,
   "id": "5c21c919-8f13-4cae-b501-ace193e2b5e6",
   "metadata": {},
   "outputs": [
    {
     "data": {
      "text/html": [
       "<div>\n",
       "<style scoped>\n",
       "    .dataframe tbody tr th:only-of-type {\n",
       "        vertical-align: middle;\n",
       "    }\n",
       "\n",
       "    .dataframe tbody tr th {\n",
       "        vertical-align: top;\n",
       "    }\n",
       "\n",
       "    .dataframe thead th {\n",
       "        text-align: right;\n",
       "    }\n",
       "</style>\n",
       "<table border=\"1\" class=\"dataframe\">\n",
       "  <thead>\n",
       "    <tr style=\"text-align: right;\">\n",
       "      <th></th>\n",
       "      <th>account_id</th>\n",
       "      <th>income</th>\n",
       "    </tr>\n",
       "  </thead>\n",
       "  <tbody>\n",
       "    <tr>\n",
       "      <th>1</th>\n",
       "      <td>2</td>\n",
       "      <td>12747</td>\n",
       "    </tr>\n",
       "  </tbody>\n",
       "</table>\n",
       "</div>"
      ],
      "text/plain": [
       "   account_id  income\n",
       "1           2   12747"
      ]
     },
     "execution_count": 27,
     "metadata": {},
     "output_type": "execute_result"
    }
   ],
   "source": [
    "accounts[accounts.income < 20000]"
   ]
  },
  {
   "cell_type": "code",
   "execution_count": 22,
   "id": "b7aab891-bfa7-4e3b-a28f-ea2ec4395854",
   "metadata": {},
   "outputs": [
    {
     "data": {
      "text/html": [
       "<div>\n",
       "<style scoped>\n",
       "    .dataframe tbody tr th:only-of-type {\n",
       "        vertical-align: middle;\n",
       "    }\n",
       "\n",
       "    .dataframe tbody tr th {\n",
       "        vertical-align: top;\n",
       "    }\n",
       "\n",
       "    .dataframe thead th {\n",
       "        text-align: right;\n",
       "    }\n",
       "</style>\n",
       "<table border=\"1\" class=\"dataframe\">\n",
       "  <thead>\n",
       "    <tr style=\"text-align: right;\">\n",
       "      <th></th>\n",
       "      <th>category</th>\n",
       "      <th>accounts_count</th>\n",
       "    </tr>\n",
       "  </thead>\n",
       "  <tbody>\n",
       "  </tbody>\n",
       "</table>\n",
       "</div>"
      ],
      "text/plain": [
       "Empty DataFrame\n",
       "Columns: [category, accounts_count]\n",
       "Index: []"
      ]
     },
     "execution_count": 22,
     "metadata": {},
     "output_type": "execute_result"
    }
   ],
   "source": [
    "tot"
   ]
  },
  {
   "cell_type": "code",
   "execution_count": 54,
   "id": "5c3bca3e-ed68-4aad-8d85-9b4f1d1bfb40",
   "metadata": {},
   "outputs": [],
   "source": [
    "data = [[107, 'hung', 'A', 102],[101, 'John', 'A', None], [102, 'Dan', 'A', 101], [103, 'James', 'A', 101], [104, 'Amy', 'A', 101], [105, 'Anne', 'A', 101], [106, 'Ron', 'B', 101]]\n",
    "employee = pd.DataFrame(data, columns=['id', 'name', 'department', 'managerId']).astype({'id':'Int64', 'name':'object', 'department':'object', 'managerId':'Int64'})"
   ]
  },
  {
   "cell_type": "code",
   "execution_count": 55,
   "id": "168158ba-0fd4-484c-91df-3786fb295ac9",
   "metadata": {},
   "outputs": [
    {
     "data": {
      "text/html": [
       "<div>\n",
       "<style scoped>\n",
       "    .dataframe tbody tr th:only-of-type {\n",
       "        vertical-align: middle;\n",
       "    }\n",
       "\n",
       "    .dataframe tbody tr th {\n",
       "        vertical-align: top;\n",
       "    }\n",
       "\n",
       "    .dataframe thead th {\n",
       "        text-align: right;\n",
       "    }\n",
       "</style>\n",
       "<table border=\"1\" class=\"dataframe\">\n",
       "  <thead>\n",
       "    <tr style=\"text-align: right;\">\n",
       "      <th></th>\n",
       "      <th>id</th>\n",
       "      <th>name</th>\n",
       "      <th>department</th>\n",
       "      <th>managerId</th>\n",
       "    </tr>\n",
       "  </thead>\n",
       "  <tbody>\n",
       "    <tr>\n",
       "      <th>0</th>\n",
       "      <td>107</td>\n",
       "      <td>hung</td>\n",
       "      <td>A</td>\n",
       "      <td>102</td>\n",
       "    </tr>\n",
       "    <tr>\n",
       "      <th>1</th>\n",
       "      <td>101</td>\n",
       "      <td>John</td>\n",
       "      <td>A</td>\n",
       "      <td>&lt;NA&gt;</td>\n",
       "    </tr>\n",
       "    <tr>\n",
       "      <th>2</th>\n",
       "      <td>102</td>\n",
       "      <td>Dan</td>\n",
       "      <td>A</td>\n",
       "      <td>101</td>\n",
       "    </tr>\n",
       "    <tr>\n",
       "      <th>3</th>\n",
       "      <td>103</td>\n",
       "      <td>James</td>\n",
       "      <td>A</td>\n",
       "      <td>101</td>\n",
       "    </tr>\n",
       "    <tr>\n",
       "      <th>4</th>\n",
       "      <td>104</td>\n",
       "      <td>Amy</td>\n",
       "      <td>A</td>\n",
       "      <td>101</td>\n",
       "    </tr>\n",
       "    <tr>\n",
       "      <th>5</th>\n",
       "      <td>105</td>\n",
       "      <td>Anne</td>\n",
       "      <td>A</td>\n",
       "      <td>101</td>\n",
       "    </tr>\n",
       "    <tr>\n",
       "      <th>6</th>\n",
       "      <td>106</td>\n",
       "      <td>Ron</td>\n",
       "      <td>B</td>\n",
       "      <td>101</td>\n",
       "    </tr>\n",
       "  </tbody>\n",
       "</table>\n",
       "</div>"
      ],
      "text/plain": [
       "    id   name department  managerId\n",
       "0  107   hung          A        102\n",
       "1  101   John          A       <NA>\n",
       "2  102    Dan          A        101\n",
       "3  103  James          A        101\n",
       "4  104    Amy          A        101\n",
       "5  105   Anne          A        101\n",
       "6  106    Ron          B        101"
      ]
     },
     "execution_count": 55,
     "metadata": {},
     "output_type": "execute_result"
    }
   ],
   "source": [
    "employee"
   ]
  },
  {
   "cell_type": "code",
   "execution_count": 57,
   "id": "713c7943-ab23-4296-b8d4-771d93f6a6b6",
   "metadata": {},
   "outputs": [
    {
     "data": {
      "text/html": [
       "<div>\n",
       "<style scoped>\n",
       "    .dataframe tbody tr th:only-of-type {\n",
       "        vertical-align: middle;\n",
       "    }\n",
       "\n",
       "    .dataframe tbody tr th {\n",
       "        vertical-align: top;\n",
       "    }\n",
       "\n",
       "    .dataframe thead th {\n",
       "        text-align: right;\n",
       "    }\n",
       "</style>\n",
       "<table border=\"1\" class=\"dataframe\">\n",
       "  <thead>\n",
       "    <tr style=\"text-align: right;\">\n",
       "      <th></th>\n",
       "      <th>managerId</th>\n",
       "      <th>manager</th>\n",
       "    </tr>\n",
       "  </thead>\n",
       "  <tbody>\n",
       "    <tr>\n",
       "      <th>0</th>\n",
       "      <td>101</td>\n",
       "      <td>5</td>\n",
       "    </tr>\n",
       "    <tr>\n",
       "      <th>1</th>\n",
       "      <td>102</td>\n",
       "      <td>1</td>\n",
       "    </tr>\n",
       "  </tbody>\n",
       "</table>\n",
       "</div>"
      ],
      "text/plain": [
       "   managerId  manager\n",
       "0        101        5\n",
       "1        102        1"
      ]
     },
     "execution_count": 57,
     "metadata": {},
     "output_type": "execute_result"
    }
   ],
   "source": [
    "df = employee.groupby('managerId').size().reset_index(name = 'manager')\n",
    "df"
   ]
  },
  {
   "cell_type": "code",
   "execution_count": 64,
   "id": "227a3f02-d064-4268-b2dc-b6dedb1c7576",
   "metadata": {},
   "outputs": [
    {
     "data": {
      "text/html": [
       "<div>\n",
       "<style scoped>\n",
       "    .dataframe tbody tr th:only-of-type {\n",
       "        vertical-align: middle;\n",
       "    }\n",
       "\n",
       "    .dataframe tbody tr th {\n",
       "        vertical-align: top;\n",
       "    }\n",
       "\n",
       "    .dataframe thead th {\n",
       "        text-align: right;\n",
       "    }\n",
       "</style>\n",
       "<table border=\"1\" class=\"dataframe\">\n",
       "  <thead>\n",
       "    <tr style=\"text-align: right;\">\n",
       "      <th></th>\n",
       "      <th>managerId</th>\n",
       "      <th>manager</th>\n",
       "      <th>id</th>\n",
       "      <th>name</th>\n",
       "    </tr>\n",
       "  </thead>\n",
       "  <tbody>\n",
       "    <tr>\n",
       "      <th>0</th>\n",
       "      <td>101</td>\n",
       "      <td>5</td>\n",
       "      <td>101</td>\n",
       "      <td>John</td>\n",
       "    </tr>\n",
       "    <tr>\n",
       "      <th>1</th>\n",
       "      <td>102</td>\n",
       "      <td>1</td>\n",
       "      <td>102</td>\n",
       "      <td>Dan</td>\n",
       "    </tr>\n",
       "  </tbody>\n",
       "</table>\n",
       "</div>"
      ],
      "text/plain": [
       "   managerId  manager   id  name\n",
       "0        101        5  101  John\n",
       "1        102        1  102   Dan"
      ]
     },
     "execution_count": 64,
     "metadata": {},
     "output_type": "execute_result"
    }
   ],
   "source": [
    "df = df.merge(employee[['id','name']], how = 'inner')\n",
    "df"
   ]
  },
  {
   "cell_type": "code",
   "execution_count": 63,
   "id": "2f7b8b9a-b277-4107-b2d6-bd28bc77b51f",
   "metadata": {},
   "outputs": [
    {
     "data": {
      "text/html": [
       "<div>\n",
       "<style scoped>\n",
       "    .dataframe tbody tr th:only-of-type {\n",
       "        vertical-align: middle;\n",
       "    }\n",
       "\n",
       "    .dataframe tbody tr th {\n",
       "        vertical-align: top;\n",
       "    }\n",
       "\n",
       "    .dataframe thead th {\n",
       "        text-align: right;\n",
       "    }\n",
       "</style>\n",
       "<table border=\"1\" class=\"dataframe\">\n",
       "  <thead>\n",
       "    <tr style=\"text-align: right;\">\n",
       "      <th></th>\n",
       "      <th>name</th>\n",
       "    </tr>\n",
       "  </thead>\n",
       "  <tbody>\n",
       "    <tr>\n",
       "      <th>0</th>\n",
       "      <td>John</td>\n",
       "    </tr>\n",
       "  </tbody>\n",
       "</table>\n",
       "</div>"
      ],
      "text/plain": [
       "   name\n",
       "0  John"
      ]
     },
     "execution_count": 63,
     "metadata": {},
     "output_type": "execute_result"
    }
   ],
   "source": [
    "df[df['manager']>=5][['name']]"
   ]
  },
  {
   "cell_type": "code",
   "execution_count": null,
   "id": "4eb4bddb-4b35-4495-b32f-8dd75dfa84ba",
   "metadata": {},
   "outputs": [],
   "source": []
  }
 ],
 "metadata": {
  "kernelspec": {
   "display_name": "Python 3 (ipykernel)",
   "language": "python",
   "name": "python3"
  },
  "language_info": {
   "codemirror_mode": {
    "name": "ipython",
    "version": 3
   },
   "file_extension": ".py",
   "mimetype": "text/x-python",
   "name": "python",
   "nbconvert_exporter": "python",
   "pygments_lexer": "ipython3",
   "version": "3.12.7"
  }
 },
 "nbformat": 4,
 "nbformat_minor": 5
}
